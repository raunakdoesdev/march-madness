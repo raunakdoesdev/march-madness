{
 "cells": [
  {
   "cell_type": "code",
   "execution_count": 71,
   "id": "75890a77-c9ef-4722-bd7a-62ecd777f4cf",
   "metadata": {},
   "outputs": [],
   "source": [
    "import pandas as pd\n",
    "import numpy as np\n",
    "import matplotlib.pyplot as plt\n",
    "import matplotlib.dates\n",
    "\n",
    "from sklearn.model_selection  import train_test_split\n",
    "from sklearn.metrics import f1_score, accuracy_score, confusion_matrix\n",
    "from sklearn.datasets import make_classification\n",
    "from sklearn.ensemble import RandomForestClassifier\n",
    "from sklearn.linear_model import LogisticRegression\n",
    "from sklearn.model_selection import KFold \n",
    "from sklearn.svm import LinearSVC\n",
    "from lightgbm import LGBMClassifier\n",
    "import lightgbm\n",
    "\n",
    "from datetime import datetime\n",
    "\n",
    "\n",
    "\n"
   ]
  },
  {
   "cell_type": "code",
   "execution_count": 76,
   "id": "19493c9f",
   "metadata": {},
   "outputs": [],
   "source": [
    "plt.style.use('seaborn-dark-palette')\n"
   ]
  },
  {
   "cell_type": "code",
   "execution_count": 38,
   "id": "dc27ca85-bd2c-4bec-a6cc-794d4527348f",
   "metadata": {},
   "outputs": [
    {
     "data": {
      "text/plain": [
       "LGBMClassifier(n_estimators=50)"
      ]
     },
     "execution_count": 38,
     "metadata": {},
     "output_type": "execute_result"
    }
   ],
   "source": [
    "df = pd.read_csv('all_data.csv')\n",
    "y = df['beat_spread']\n",
    "X = df.copy()\n",
    "X.pop('beat_spread')\n",
    "X.pop('date')\n",
    "X.pop('Unnamed: 0')\n",
    "\n",
    "model = LGBMClassifier(n_estimators = 50)\n",
    "model.fit(X, y)"
   ]
  },
  {
   "cell_type": "code",
   "execution_count": 77,
   "id": "aee73bc0",
   "metadata": {},
   "outputs": [
    {
     "data": {
      "image/png": "[encoded data removed]",
      "text/plain": [
       "<Figure size 432x288 with 1 Axes>"
      ]
     },
     "metadata": {
      "needs_background": "light"
     },
     "output_type": "display_data"
    }
   ],
   "source": [
    "lightgbm.plot_importance(model)\n",
    "plt.savefig('figures/feature_importance.png', bbox_inches='tight', format = 'png', dpi=800)"
   ]
  },
  {
   "cell_type": "code",
   "execution_count": 39,
   "id": "e9cd1715-5f53-490c-8a70-dcff8291932c",
   "metadata": {},
   "outputs": [
    {
     "data": {
      "text/html": [
       "<div>\n",
       "<style scoped>\n",
       "    .dataframe tbody tr th:only-of-type {\n",
       "        vertical-align: middle;\n",
       "    }\n",
       "\n",
       "    .dataframe tbody tr th {\n",
       "        vertical-align: top;\n",
       "    }\n",
       "\n",
       "    .dataframe thead th {\n",
       "        text-align: right;\n",
       "    }\n",
       "</style>\n",
       "<table border=\"1\" class=\"dataframe\">\n",
       "  <thead>\n",
       "    <tr style=\"text-align: right;\">\n",
       "      <th></th>\n",
       "      <th>win_percentage_5</th>\n",
       "      <th>win_percentage</th>\n",
       "      <th>avg_margin_5</th>\n",
       "      <th>avg_margin</th>\n",
       "      <th>home_or_away</th>\n",
       "      <th>spread</th>\n",
       "      <th>opp_win_percentage_5</th>\n",
       "      <th>opp_win_percentage</th>\n",
       "      <th>opp_avg_margin_5</th>\n",
       "      <th>opp_avg_margin</th>\n",
       "    </tr>\n",
       "  </thead>\n",
       "  <tbody>\n",
       "    <tr>\n",
       "      <th>706</th>\n",
       "      <td>1.0</td>\n",
       "      <td>1.0</td>\n",
       "      <td>7.0</td>\n",
       "      <td>7.0</td>\n",
       "      <td>0</td>\n",
       "      <td>3.5</td>\n",
       "      <td>0.0</td>\n",
       "      <td>0.0</td>\n",
       "      <td>7.0</td>\n",
       "      <td>7.0</td>\n",
       "    </tr>\n",
       "    <tr>\n",
       "      <th>108</th>\n",
       "      <td>1.0</td>\n",
       "      <td>1.0</td>\n",
       "      <td>23.0</td>\n",
       "      <td>23.0</td>\n",
       "      <td>1</td>\n",
       "      <td>-1.5</td>\n",
       "      <td>0.0</td>\n",
       "      <td>0.0</td>\n",
       "      <td>23.0</td>\n",
       "      <td>23.0</td>\n",
       "    </tr>\n",
       "    <tr>\n",
       "      <th>630</th>\n",
       "      <td>0.0</td>\n",
       "      <td>0.0</td>\n",
       "      <td>7.0</td>\n",
       "      <td>7.0</td>\n",
       "      <td>1</td>\n",
       "      <td>-3.5</td>\n",
       "      <td>1.0</td>\n",
       "      <td>1.0</td>\n",
       "      <td>7.0</td>\n",
       "      <td>7.0</td>\n",
       "    </tr>\n",
       "    <tr>\n",
       "      <th>997</th>\n",
       "      <td>0.0</td>\n",
       "      <td>0.0</td>\n",
       "      <td>23.0</td>\n",
       "      <td>23.0</td>\n",
       "      <td>0</td>\n",
       "      <td>1.5</td>\n",
       "      <td>1.0</td>\n",
       "      <td>1.0</td>\n",
       "      <td>23.0</td>\n",
       "      <td>23.0</td>\n",
       "    </tr>\n",
       "    <tr>\n",
       "      <th>258</th>\n",
       "      <td>1.0</td>\n",
       "      <td>1.0</td>\n",
       "      <td>11.0</td>\n",
       "      <td>11.0</td>\n",
       "      <td>1</td>\n",
       "      <td>-7.0</td>\n",
       "      <td>0.0</td>\n",
       "      <td>0.0</td>\n",
       "      <td>11.0</td>\n",
       "      <td>11.0</td>\n",
       "    </tr>\n",
       "  </tbody>\n",
       "</table>\n",
       "</div>"
      ],
      "text/plain": [
       "     win_percentage_5  win_percentage  avg_margin_5  avg_margin  home_or_away  \\\n",
       "706               1.0             1.0           7.0         7.0             0   \n",
       "108               1.0             1.0          23.0        23.0             1   \n",
       "630               0.0             0.0           7.0         7.0             1   \n",
       "997               0.0             0.0          23.0        23.0             0   \n",
       "258               1.0             1.0          11.0        11.0             1   \n",
       "\n",
       "     spread  opp_win_percentage_5  opp_win_percentage  opp_avg_margin_5  \\\n",
       "706     3.5                   0.0                 0.0               7.0   \n",
       "108    -1.5                   0.0                 0.0              23.0   \n",
       "630    -3.5                   1.0                 1.0               7.0   \n",
       "997     1.5                   1.0                 1.0              23.0   \n",
       "258    -7.0                   0.0                 0.0              11.0   \n",
       "\n",
       "     opp_avg_margin  \n",
       "706             7.0  \n",
       "108            23.0  \n",
       "630             7.0  \n",
       "997            23.0  \n",
       "258            11.0  "
      ]
     },
     "execution_count": 39,
     "metadata": {},
     "output_type": "execute_result"
    }
   ],
   "source": [
    "df_2022 = pd.read_csv('2022_data.csv')\n",
    "dates_str = list(df_2022['date'])\n",
    "datetime_str = [datetime.strptime(date, '%Y-%m-%d %H:%M:%S') for date in dates_str]\n",
    "df_2022.pop('date')\n",
    "df_2022['date'] = datetime_str\n",
    "\n",
    "df_2022 = df_2022.sort_values(by=['date'])\n",
    "\n",
    "df_2022.pop('Unnamed: 0')\n",
    "\n",
    "y_2022 = df_2022['beat_spread']\n",
    "X_2022 = df_2022.copy()\n",
    "date_order = X_2022['date']\n",
    "X_2022.pop('date')\n",
    "X_2022.pop('beat_spread')\n",
    "X_2022.head()"
   ]
  },
  {
   "cell_type": "code",
   "execution_count": 64,
   "id": "a5de7cad",
   "metadata": {},
   "outputs": [
    {
     "name": "stdout",
     "output_type": "stream",
     "text": [
      "DatetimeIndex([          '2021-10-19 00:00:00',\n",
      "               '2021-10-19 03:58:15.840867992',\n",
      "               '2021-10-19 07:56:31.681735985',\n",
      "               '2021-10-19 11:54:47.522603978',\n",
      "               '2021-10-19 15:53:03.363471971',\n",
      "               '2021-10-19 19:51:19.204339963',\n",
      "               '2021-10-19 23:49:35.045207956',\n",
      "               '2021-10-20 03:47:50.886075949',\n",
      "               '2021-10-20 07:46:06.726943942',\n",
      "               '2021-10-20 11:44:22.567811934',\n",
      "               ...\n",
      "               '2022-04-18 12:15:37.432188066',\n",
      "               '2022-04-18 16:13:53.273056058',\n",
      "               '2022-04-18 20:12:09.113924052',\n",
      "               '2022-04-19 00:10:24.954792044',\n",
      "               '2022-04-19 04:08:40.795660038',\n",
      "               '2022-04-19 08:06:56.636528030',\n",
      "               '2022-04-19 12:05:12.477396022',\n",
      "               '2022-04-19 16:03:28.318264016',\n",
      "               '2022-04-19 20:01:44.159132008',\n",
      "                         '2022-04-20 00:00:00'],\n",
      "              dtype='datetime64[ns]', length=1107, freq=None)\n",
      "DatetimeIndex([          '2021-10-19 00:00:00',\n",
      "               '2021-10-19 03:58:02.926829268',\n",
      "               '2021-10-19 07:56:05.853658536',\n",
      "               '2021-10-19 11:54:08.780487804',\n",
      "               '2021-10-19 15:52:11.707317073',\n",
      "               '2021-10-19 19:50:14.634146341',\n",
      "               '2021-10-19 23:48:17.560975609',\n",
      "               '2021-10-20 03:46:20.487804878',\n",
      "               '2021-10-20 07:44:23.414634146',\n",
      "               '2021-10-20 11:42:26.341463414',\n",
      "               ...\n",
      "               '2022-04-18 12:17:33.658536586',\n",
      "               '2022-04-18 16:15:36.585365854',\n",
      "               '2022-04-18 20:13:39.512195122',\n",
      "               '2022-04-19 00:11:42.439024390',\n",
      "               '2022-04-19 04:09:45.365853658',\n",
      "               '2022-04-19 08:07:48.292682928',\n",
      "               '2022-04-19 12:05:51.219512196',\n",
      "               '2022-04-19 16:03:54.146341464',\n",
      "               '2022-04-19 20:01:57.073170732',\n",
      "                         '2022-04-20 00:00:00'],\n",
      "              dtype='datetime64[ns]', length=1108, freq=None)\n"
     ]
    }
   ],
   "source": [
    "print(date_order)\n",
    "date_order = pd.date_range(start='10/19/2021', end='4/20/2022', periods = 1108)\n",
    "print(date_order)"
   ]
  },
  {
   "cell_type": "code",
   "execution_count": 67,
   "id": "fc32e082-d880-4db8-bf7f-7c6dc9bb565e",
   "metadata": {},
   "outputs": [],
   "source": [
    "\n",
    "def season_simulator(bet_size, threshold, plot = True):\n",
    "    db_size = X_2022.shape[0]\n",
    "\n",
    "    if threshold<0.5:\n",
    "        threshold = 0.5\n",
    "    money = 100\n",
    "    num_failed_bets = 100/bet_size\n",
    "    money_series = []\n",
    "    num_bets_made = 0\n",
    "    correct_bets = 0\n",
    "    total_games = 0\n",
    "    for i in range(db_size):\n",
    "        if money>bet_size:\n",
    "            sample = np.array(X_2022.iloc[i])\n",
    "            prediction = model.predict(sample.reshape(1,-1))\n",
    "            model_certainty = model.predict_proba(sample.reshape(1,-1))\n",
    "            actual = y_2022.iloc[i]\n",
    "\n",
    "            if abs(model_certainty[0][0]-0.5)>abs(threshold-0.5):\n",
    "                num_bets_made+=1\n",
    "                if prediction == actual:\n",
    "                    money+=bet_size/1.1\n",
    "                    correct_bets+=1\n",
    "                else:\n",
    "                    money-=bet_size\n",
    "        total_games+=1\n",
    "\n",
    "        money_series.append(money)\n",
    "\n",
    "    if num_bets_made == 0:\n",
    "        accuracy = 0\n",
    "    else:\n",
    "        accuracy = correct_bets/num_bets_made\n",
    "    \n",
    "    description = 'accuracy of bets: ' + '{:.2f}'.format(100*accuracy)+'%\\npercent of games bet on: '+'{:.2f}'.format(100*num_bets_made/total_games)+'%'\n",
    "    money_made = '\\nmoney made: $'+'{:.2f}'.format(money)\n",
    "    legend_text = description+money_made\n",
    "    if plot:\n",
    "        dates_plt = matplotlib.dates.date2num(date_order)\n",
    "\n",
    "        fig, ax = plt.subplots()\n",
    "        plt.plot(date_order, money_series, label = legend_text)\n",
    "        plt.plot(date_order, [100]*len(date_order), label = 'starting money')\n",
    "        myFmt = matplotlib.dates.DateFormatter(\"%b\")\n",
    "        ax.xaxis.set_major_formatter(myFmt)\n",
    "        ax.set_title('Full Season Simulation\\nBet $90 on games with '+'{:.0f}'.format(100*threshold)+'% confidence')\n",
    "        #ax.suptitle('Bet on games with '+'{:.2f}'.format(100*threshold)+' confidence')\n",
    "        \n",
    "        ax.legend()\n",
    "        \n",
    "        fig.autofmt_xdate()\n",
    "        plt.savefig('figures/season_simulated.png', format=\"png\", dpi=1200)\n",
    "        plt.show()\n",
    "    \n",
    "    return money"
   ]
  },
  {
   "cell_type": "code",
   "execution_count": 41,
   "id": "b693e5e7-5363-4c56-83be-218e8f81d53e",
   "metadata": {},
   "outputs": [
    {
     "name": "stdout",
     "output_type": "stream",
     "text": [
      "Bet Size: 10.0, Certainty Threshold 0.5, Money Made: 4197.272727272676\n",
      "Bet Size: 10.0, Certainty Threshold 0.55, Money Made: 4229.9999999999545\n",
      "Bet Size: 10.0, Certainty Threshold 0.6, Money Made: 3909.999999999961\n",
      "Bet Size: 10.0, Certainty Threshold 0.65, Money Made: 3639.999999999968\n",
      "Bet Size: 10.0, Certainty Threshold 0.7, Money Made: 3142.7272727272475\n",
      "Bet Size: 10.0, Certainty Threshold 0.75, Money Made: 2619.9999999999823\n",
      "Bet Size: 10.0, Certainty Threshold 0.8, Money Made: 1963.6363636363549\n",
      "Bet Size: 10.0, Certainty Threshold 0.85, Money Made: 1249.0909090909083\n",
      "Bet Size: 10.0, Certainty Threshold 0.8999999999999999, Money Made: 679.9999999999999\n",
      "Bet Size: 10.0, Certainty Threshold 0.95, Money Made: 472.7272727272722\n",
      "Bet Size: 20.0, Certainty Threshold 0.5, Money Made: 8294.545454545354\n",
      "Bet Size: 20.0, Certainty Threshold 0.55, Money Made: 8359.999999999909\n",
      "Bet Size: 20.0, Certainty Threshold 0.6, Money Made: 7719.999999999923\n",
      "Bet Size: 20.0, Certainty Threshold 0.65, Money Made: 7179.999999999937\n",
      "Bet Size: 20.0, Certainty Threshold 0.7, Money Made: 6185.454545454496\n",
      "Bet Size: 20.0, Certainty Threshold 0.75, Money Made: 5139.999999999965\n",
      "Bet Size: 20.0, Certainty Threshold 0.8, Money Made: 3827.272727272711\n",
      "Bet Size: 20.0, Certainty Threshold 0.85, Money Made: 2398.1818181818176\n",
      "Bet Size: 20.0, Certainty Threshold 0.8999999999999999, Money Made: 1259.9999999999993\n",
      "Bet Size: 20.0, Certainty Threshold 0.95, Money Made: 845.4545454545446\n",
      "Bet Size: 30.0, Certainty Threshold 0.5, Money Made: 12391.818181818326\n",
      "Bet Size: 30.0, Certainty Threshold 0.55, Money Made: 12490.000000000124\n",
      "Bet Size: 30.0, Certainty Threshold 0.6, Money Made: 11530.000000000078\n",
      "Bet Size: 30.0, Certainty Threshold 0.65, Money Made: 10720.00000000005\n",
      "Bet Size: 30.0, Certainty Threshold 0.7, Money Made: 9228.18181818182\n",
      "Bet Size: 30.0, Certainty Threshold 0.75, Money Made: 7659.999999999976\n",
      "Bet Size: 30.0, Certainty Threshold 0.8, Money Made: 5690.90909090909\n",
      "Bet Size: 30.0, Certainty Threshold 0.85, Money Made: 3547.2727272727384\n",
      "Bet Size: 30.0, Certainty Threshold 0.8999999999999999, Money Made: 1839.9999999999989\n",
      "Bet Size: 30.0, Certainty Threshold 0.95, Money Made: 1218.1818181818176\n",
      "Bet Size: 40.0, Certainty Threshold 0.5, Money Made: 16489.09090909071\n",
      "Bet Size: 40.0, Certainty Threshold 0.55, Money Made: 16619.999999999818\n",
      "Bet Size: 40.0, Certainty Threshold 0.6, Money Made: 15339.999999999845\n",
      "Bet Size: 40.0, Certainty Threshold 0.65, Money Made: 14259.999999999876\n",
      "Bet Size: 40.0, Certainty Threshold 0.7, Money Made: 12270.909090908992\n",
      "Bet Size: 40.0, Certainty Threshold 0.75, Money Made: 10179.999999999933\n",
      "Bet Size: 40.0, Certainty Threshold 0.8, Money Made: 7554.545454545423\n",
      "Bet Size: 40.0, Certainty Threshold 0.85, Money Made: 4696.363636363636\n",
      "Bet Size: 40.0, Certainty Threshold 0.8999999999999999, Money Made: 2419.9999999999986\n",
      "Bet Size: 40.0, Certainty Threshold 0.95, Money Made: 1590.9090909090896\n",
      "Bet Size: 50.0, Certainty Threshold 0.5, Money Made: 20586.363636363487\n",
      "Bet Size: 50.0, Certainty Threshold 0.55, Money Made: 20749.99999999987\n",
      "Bet Size: 50.0, Certainty Threshold 0.6, Money Made: 19149.999999999975\n",
      "Bet Size: 50.0, Certainty Threshold 0.65, Money Made: 17800.0\n",
      "Bet Size: 50.0, Certainty Threshold 0.7, Money Made: 15313.636363636419\n",
      "Bet Size: 50.0, Certainty Threshold 0.75, Money Made: 12700.000000000015\n",
      "Bet Size: 50.0, Certainty Threshold 0.8, Money Made: 9418.18181818179\n",
      "Bet Size: 50.0, Certainty Threshold 0.85, Money Made: 5845.454545454531\n",
      "Bet Size: 50.0, Certainty Threshold 0.8999999999999999, Money Made: 3000.000000000002\n",
      "Bet Size: 50.0, Certainty Threshold 0.95, Money Made: 1963.6363636363646\n",
      "Bet Size: 60.0, Certainty Threshold 0.5, Money Made: 24683.636363636644\n",
      "Bet Size: 60.0, Certainty Threshold 0.55, Money Made: 24880.000000000247\n",
      "Bet Size: 60.0, Certainty Threshold 0.6, Money Made: 22960.000000000153\n",
      "Bet Size: 60.0, Certainty Threshold 0.65, Money Made: 21340.000000000095\n",
      "Bet Size: 60.0, Certainty Threshold 0.7, Money Made: 18356.363636363636\n",
      "Bet Size: 60.0, Certainty Threshold 0.75, Money Made: 15219.999999999953\n",
      "Bet Size: 60.0, Certainty Threshold 0.8, Money Made: 11281.818181818182\n",
      "Bet Size: 60.0, Certainty Threshold 0.85, Money Made: 6994.545454545475\n",
      "Bet Size: 60.0, Certainty Threshold 0.8999999999999999, Money Made: 3579.9999999999977\n",
      "Bet Size: 60.0, Certainty Threshold 0.95, Money Made: 2336.363636363635\n",
      "Bet Size: 70.0, Certainty Threshold 0.5, Money Made: 28780.909090909314\n",
      "Bet Size: 70.0, Certainty Threshold 0.55, Money Made: 29010.000000000204\n",
      "Bet Size: 70.0, Certainty Threshold 0.6, Money Made: 26770.000000000175\n",
      "Bet Size: 70.0, Certainty Threshold 0.65, Money Made: 24880.00000000015\n",
      "Bet Size: 70.0, Certainty Threshold 0.7, Money Made: 21399.090909091028\n",
      "Bet Size: 70.0, Certainty Threshold 0.75, Money Made: 17740.000000000084\n",
      "Bet Size: 70.0, Certainty Threshold 0.8, Money Made: 13145.454545454599\n",
      "Bet Size: 70.0, Certainty Threshold 0.85, Money Made: 8143.636363636385\n",
      "Bet Size: 70.0, Certainty Threshold 0.8999999999999999, Money Made: 4159.999999999998\n",
      "Bet Size: 70.0, Certainty Threshold 0.95, Money Made: 2709.0909090909095\n",
      "Bet Size: 80.0, Certainty Threshold 0.5, Money Made: 32878.18181818143\n",
      "Bet Size: 80.0, Certainty Threshold 0.55, Money Made: 33139.999999999636\n",
      "Bet Size: 80.0, Certainty Threshold 0.6, Money Made: 30579.999999999694\n",
      "Bet Size: 80.0, Certainty Threshold 0.65, Money Made: 28419.999999999753\n",
      "Bet Size: 80.0, Certainty Threshold 0.7, Money Made: 24441.818181817987\n",
      "Bet Size: 80.0, Certainty Threshold 0.75, Money Made: 20259.999999999865\n",
      "Bet Size: 80.0, Certainty Threshold 0.8, Money Made: 15009.090909090846\n",
      "Bet Size: 80.0, Certainty Threshold 0.85, Money Made: 9292.727272727272\n",
      "Bet Size: 80.0, Certainty Threshold 0.8999999999999999, Money Made: 4739.999999999996\n",
      "Bet Size: 80.0, Certainty Threshold 0.95, Money Made: 3081.8181818181793\n",
      "Bet Size: 90.0, Certainty Threshold 0.5, Money Made: 36975.454545454224\n",
      "Bet Size: 90.0, Certainty Threshold 0.55, Money Made: 37269.99999999972\n",
      "Bet Size: 90.0, Certainty Threshold 0.6, Money Made: 34389.99999999963\n",
      "Bet Size: 90.0, Certainty Threshold 0.65, Money Made: 31959.99999999961\n",
      "Bet Size: 90.0, Certainty Threshold 0.7, Money Made: 27484.545454545198\n",
      "Bet Size: 90.0, Certainty Threshold 0.75, Money Made: 22779.999999999876\n",
      "Bet Size: 90.0, Certainty Threshold 0.8, Money Made: 16872.727272727298\n",
      "Bet Size: 90.0, Certainty Threshold 0.85, Money Made: 10441.818181818198\n",
      "Bet Size: 90.0, Certainty Threshold 0.8999999999999999, Money Made: 5320.0000000000055\n",
      "Bet Size: 90.0, Certainty Threshold 0.95, Money Made: 3454.5454545454563\n",
      "Bet Size: 100.0, Certainty Threshold 0.5, Money Made: 100\n",
      "Bet Size: 100.0, Certainty Threshold 0.55, Money Made: 100\n",
      "Bet Size: 100.0, Certainty Threshold 0.6, Money Made: 100\n",
      "Bet Size: 100.0, Certainty Threshold 0.65, Money Made: 100\n",
      "Bet Size: 100.0, Certainty Threshold 0.7, Money Made: 100\n",
      "Bet Size: 100.0, Certainty Threshold 0.75, Money Made: 100\n",
      "Bet Size: 100.0, Certainty Threshold 0.8, Money Made: 100\n",
      "Bet Size: 100.0, Certainty Threshold 0.85, Money Made: 100\n",
      "Bet Size: 100.0, Certainty Threshold 0.8999999999999999, Money Made: 100\n",
      "Bet Size: 100.0, Certainty Threshold 0.95, Money Made: 100\n"
     ]
    }
   ],
   "source": [
    "\n",
    "thresholds = np.linspace(0.5, 0.95, 10)\n",
    "money_made = {}\n",
    "\n",
    "betsizes = np.linspace(10,100,10)\n",
    "num_failed_bets = 100/betsizes\n",
    "\n",
    "all = []\n",
    "for num_failed_bet in num_failed_bets:\n",
    "    mini = []\n",
    "    for threshold in thresholds:\n",
    "        money = season_simulator(100/num_failed_bet,threshold, False)\n",
    "        print('Bet Size: {0}, Certainty Threshold {1}, Money Made: {2}'.format(100/num_failed_bet, threshold, money))\n",
    "        money_made[(num_failed_bet, threshold)] = money\n",
    "        mini.append(money)\n",
    "    all.append(mini)\n",
    "data = np.array(all)\n"
   ]
  },
  {
   "cell_type": "code",
   "execution_count": 78,
   "metadata": {},
   "outputs": [
    {
     "data": {
      "image/png": "[encoded data removed]",
      "text/plain": [
       "<Figure size 432x288 with 2 Axes>"
      ]
     },
     "metadata": {
      "needs_background": "light"
     },
     "output_type": "display_data"
    }
   ],
   "source": [
    "import seaborn as sns\n",
    "fig, ax = plt.subplots()\n",
    "im = ax.imshow(data, cmap = 'viridis')\n",
    "ax.set_xticks(np.arange(len(thresholds)), labels=[round(threshold, 2) for threshold in thresholds])\n",
    "ax.set_yticks(np.arange(len(betsizes)), labels=betsizes)\n",
    "ax.set_xlabel('Certainty Threshold Required to Bet')\n",
    "ax.set_ylabel('Bet Size')\n",
    "ax.set_title('End State\\nStart with $100')\n",
    "#ax = divider.append_axes('right', size='5%', pad=0.05)\n",
    "fig.colorbar(im)\n",
    "plt.savefig('figures/money_matrix.png', format = 'png', dpi=1200)"
   ]
  },
  {
   "cell_type": "code",
   "execution_count": 49,
   "id": "7277a0c1",
   "metadata": {},
   "outputs": [
    {
     "name": "stdout",
     "output_type": "stream",
     "text": [
      "[[ 4197.27272727  4230.          3910.          3640.\n",
      "   3142.72727273  2620.          1963.63636364  1249.09090909\n",
      "    680.           472.72727273]\n",
      " [ 8294.54545455  8360.          7720.          7180.\n",
      "   6185.45454545  5140.          3827.27272727  2398.18181818\n",
      "   1260.           845.45454545]\n",
      " [12391.81818182 12490.         11530.         10720.\n",
      "   9228.18181818  7660.          5690.90909091  3547.27272727\n",
      "   1840.          1218.18181818]\n",
      " [16489.09090909 16620.         15340.         14260.\n",
      "  12270.90909091 10180.          7554.54545455  4696.36363636\n",
      "   2420.          1590.90909091]\n",
      " [20586.36363636 20750.         19150.         17800.\n",
      "  15313.63636364 12700.          9418.18181818  5845.45454545\n",
      "   3000.          1963.63636364]\n",
      " [24683.63636364 24880.         22960.         21340.\n",
      "  18356.36363636 15220.         11281.81818182  6994.54545455\n",
      "   3580.          2336.36363636]\n",
      " [28780.90909091 29010.         26770.         24880.\n",
      "  21399.09090909 17740.         13145.45454545  8143.63636364\n",
      "   4160.          2709.09090909]\n",
      " [32878.18181818 33140.         30580.         28420.\n",
      "  24441.81818182 20260.         15009.09090909  9292.72727273\n",
      "   4740.          3081.81818182]\n",
      " [36975.45454545 37270.         34390.         31960.\n",
      "  27484.54545455 22780.         16872.72727273 10441.81818182\n",
      "   5320.          3454.54545455]\n",
      " [  100.           100.           100.           100.\n",
      "    100.           100.           100.           100.\n",
      "    100.           100.        ]]\n",
      "[0.5  0.55 0.6  0.65 0.7  0.75 0.8  0.85 0.9  0.95]\n",
      "[ 10.  20.  30.  40.  50.  60.  70.  80.  90. 100.]\n"
     ]
    }
   ],
   "source": [
    "print(data)\n",
    "print(thresholds)\n",
    "print(betsizes)"
   ]
  },
  {
   "cell_type": "code",
   "execution_count": 54,
   "id": "d4b53e7f-f4d2-40e6-9b56-919c980ba493",
   "metadata": {},
   "outputs": [
    {
     "name": "stdout",
     "output_type": "stream",
     "text": [
      "max amount of money to make is  37269.99999999972\n",
      "model confidence:  0.55\n",
      "max number of failed bets:  1.1111111111111112\n"
     ]
    }
   ],
   "source": [
    "most_money = max(money_made, key = money_made.get)\n",
    "maxed_money = money_made[most_money]\n",
    "print('max amount of money to make is ', maxed_money)\n",
    "print('model confidence: ', most_money[1])\n",
    "print('max number of failed bets: ', most_money[0])"
   ]
  },
  {
   "cell_type": "code",
   "execution_count": 79,
   "id": "2c2e25a2-02f3-4d5a-942a-e4444cedc208",
   "metadata": {},
   "outputs": [
    {
     "data": {
      "image/png": "[encoded data removed]",
      "text/plain": [
       "<Figure size 432x288 with 1 Axes>"
      ]
     },
     "metadata": {
      "needs_background": "light"
     },
     "output_type": "display_data"
    },
    {
     "data": {
      "text/plain": [
       "37269.99999999972"
      ]
     },
     "execution_count": 79,
     "metadata": {},
     "output_type": "execute_result"
    }
   ],
   "source": [
    "season_simulator(90, 0.55)"
   ]
  },
  {
   "cell_type": "markdown",
   "id": "9bcfb950-09f2-469d-9ba8-9c971aa364ed",
   "metadata": {},
   "source": [
    "# Final Results\n",
    "\n",
    "We have derived at optimal betting strategy for the 2022 Season.\n",
    "\n",
    "Our model is accurate enough to bet on 92.87% of all games, betting for the side it has 53% confidence for. The model has a 73.47% accuracy. If the model starts with 100 bucks and bets 50 bucks each time, it can reach profits of $20,813.64 without ever going negative. It's essentially a money printing algorithm."
   ]
  },
  {
   "cell_type": "code",
   "execution_count": null,
   "id": "37f41380-fb05-4269-b333-2bf53e8ebce0",
   "metadata": {},
   "outputs": [],
   "source": []
  }
 ],
 "metadata": {
  "kernelspec": {
   "display_name": "Python 3 (ipykernel)",
   "language": "python",
   "name": "python3"
  },
  "language_info": {
   "codemirror_mode": {
    "name": "ipython",
    "version": 3
   },
   "file_extension": ".py",
   "mimetype": "text/x-python",
   "name": "python",
   "nbconvert_exporter": "python",
   "pygments_lexer": "ipython3",
   "version": "3.9.12"
  }
 },
 "nbformat": 4,
 "nbformat_minor": 5
}
